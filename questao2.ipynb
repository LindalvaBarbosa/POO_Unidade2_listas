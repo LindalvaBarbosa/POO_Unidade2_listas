{
  "nbformat": 4,
  "nbformat_minor": 0,
  "metadata": {
    "colab": {
      "name": "questao2.ipynb",
      "provenance": [],
      "authorship_tag": "ABX9TyMFW2CliCRUidIl7DpX+Sp3",
      "include_colab_link": true
    },
    "kernelspec": {
      "name": "python3",
      "display_name": "Python 3"
    }
  },
  "cells": [
    {
      "cell_type": "markdown",
      "metadata": {
        "id": "view-in-github",
        "colab_type": "text"
      },
      "source": [
        "<a href=\"https://colab.research.google.com/github/LindalvaBarbosa/POO_Unidade2_listas/blob/master/questao2.ipynb\" target=\"_parent\"><img src=\"https://colab.research.google.com/assets/colab-badge.svg\" alt=\"Open In Colab\"/></a>"
      ]
    },
    {
      "cell_type": "code",
      "metadata": {
        "id": "79AWSEiRI00K",
        "colab_type": "code",
        "colab": {}
      },
      "source": [
        "import pandas as pd\n",
        "import numpy as np\n",
        "import matplotlib.pyplot as plt\n"
      ],
      "execution_count": 23,
      "outputs": []
    },
    {
      "cell_type": "code",
      "metadata": {
        "id": "AJdrDLN0v2W6",
        "colab_type": "code",
        "colab": {}
      },
      "source": [
        "## Dados coletados do site do ministerio da sáude\n",
        "dadosCovid = pd.read_excel('HIST_PAINEL_COVIDBR_28ago2020.xlsx')\n",
        "## Dados coletados do site da secretaria de saúde do estado da Paraíba \n",
        "dadosObitosPB = pd.read_csv(\"20200829_201910.csv\", sep= ',')"
      ],
      "execution_count": 42,
      "outputs": []
    },
    {
      "cell_type": "code",
      "metadata": {
        "id": "RKKb1kkL7MD4",
        "colab_type": "code",
        "colab": {
          "base_uri": "https://localhost:8080/",
          "height": 419
        },
        "outputId": "7b053fe6-c3f2-482e-eb6b-1ccb30ebd716"
      },
      "source": [
        "dadosObitosPB"
      ],
      "execution_count": 43,
      "outputs": [
        {
          "output_type": "execute_result",
          "data": {
            "text/html": [
              "<div>\n",
              "<style scoped>\n",
              "    .dataframe tbody tr th:only-of-type {\n",
              "        vertical-align: middle;\n",
              "    }\n",
              "\n",
              "    .dataframe tbody tr th {\n",
              "        vertical-align: top;\n",
              "    }\n",
              "\n",
              "    .dataframe thead th {\n",
              "        text-align: right;\n",
              "    }\n",
              "</style>\n",
              "<table border=\"1\" class=\"dataframe\">\n",
              "  <thead>\n",
              "    <tr style=\"text-align: right;\">\n",
              "      <th></th>\n",
              "      <th>Método</th>\n",
              "      <th>Município de Residência</th>\n",
              "      <th>Inicio Sintomas</th>\n",
              "      <th>Sexo</th>\n",
              "      <th>Doenças preexistentes</th>\n",
              "      <th>Idade</th>\n",
              "      <th>Data do Óbito</th>\n",
              "    </tr>\n",
              "  </thead>\n",
              "  <tbody>\n",
              "    <tr>\n",
              "      <th>0</th>\n",
              "      <td>Swab</td>\n",
              "      <td>Campina Grande</td>\n",
              "      <td>2020-07-04</td>\n",
              "      <td>Masculino</td>\n",
              "      <td>Hipertensão,Diabetes Mellitus</td>\n",
              "      <td>59</td>\n",
              "      <td>2020-07-19</td>\n",
              "    </tr>\n",
              "    <tr>\n",
              "      <th>1</th>\n",
              "      <td>Teste Rápido</td>\n",
              "      <td>Pedras de Fogo</td>\n",
              "      <td>2020-06-18</td>\n",
              "      <td>Masculino</td>\n",
              "      <td>Sem comorbidades</td>\n",
              "      <td>84</td>\n",
              "      <td>2020-08-07</td>\n",
              "    </tr>\n",
              "    <tr>\n",
              "      <th>2</th>\n",
              "      <td>Teste Rápido</td>\n",
              "      <td>João Pessoa</td>\n",
              "      <td>2020-06-25</td>\n",
              "      <td>Feminino</td>\n",
              "      <td>Doença Renal</td>\n",
              "      <td>95</td>\n",
              "      <td>2020-07-16</td>\n",
              "    </tr>\n",
              "    <tr>\n",
              "      <th>3</th>\n",
              "      <td>Teste Rápido</td>\n",
              "      <td>Guarabira</td>\n",
              "      <td>2020-06-08</td>\n",
              "      <td>Feminino</td>\n",
              "      <td>Cardiopatia</td>\n",
              "      <td>80</td>\n",
              "      <td>2020-06-22</td>\n",
              "    </tr>\n",
              "    <tr>\n",
              "      <th>4</th>\n",
              "      <td>Swab</td>\n",
              "      <td>Campina Grande</td>\n",
              "      <td>2020-08-07</td>\n",
              "      <td>Masculino</td>\n",
              "      <td>Sem comorbidades</td>\n",
              "      <td>76</td>\n",
              "      <td>2020-08-18</td>\n",
              "    </tr>\n",
              "    <tr>\n",
              "      <th>...</th>\n",
              "      <td>...</td>\n",
              "      <td>...</td>\n",
              "      <td>...</td>\n",
              "      <td>...</td>\n",
              "      <td>...</td>\n",
              "      <td>...</td>\n",
              "      <td>...</td>\n",
              "    </tr>\n",
              "    <tr>\n",
              "      <th>2392</th>\n",
              "      <td>Swab</td>\n",
              "      <td>João Pessoa</td>\n",
              "      <td>2020-06-06</td>\n",
              "      <td>Feminino</td>\n",
              "      <td>Doença Neurológica</td>\n",
              "      <td>80</td>\n",
              "      <td>2020-06-13</td>\n",
              "    </tr>\n",
              "    <tr>\n",
              "      <th>2393</th>\n",
              "      <td>Swab</td>\n",
              "      <td>Patos</td>\n",
              "      <td>2020-06-25</td>\n",
              "      <td>Feminino</td>\n",
              "      <td>Hipertensão,Diabetes Mellitus</td>\n",
              "      <td>73</td>\n",
              "      <td>2020-07-04</td>\n",
              "    </tr>\n",
              "    <tr>\n",
              "      <th>2394</th>\n",
              "      <td>Teste Rápido</td>\n",
              "      <td>Campina Grande</td>\n",
              "      <td>2020-06-07</td>\n",
              "      <td>Masculino</td>\n",
              "      <td>Sem comorbidades</td>\n",
              "      <td>55</td>\n",
              "      <td>2020-06-24</td>\n",
              "    </tr>\n",
              "    <tr>\n",
              "      <th>2395</th>\n",
              "      <td>Swab</td>\n",
              "      <td>Campina Grande</td>\n",
              "      <td>2020-06-28</td>\n",
              "      <td>Masculino</td>\n",
              "      <td>Sem comorbidades</td>\n",
              "      <td>88</td>\n",
              "      <td>2020-07-09</td>\n",
              "    </tr>\n",
              "    <tr>\n",
              "      <th>2396</th>\n",
              "      <td>Swab</td>\n",
              "      <td>Capim</td>\n",
              "      <td>2020-06-09</td>\n",
              "      <td>Masculino</td>\n",
              "      <td>Sem comorbidades</td>\n",
              "      <td>80</td>\n",
              "      <td>2020-06-11</td>\n",
              "    </tr>\n",
              "  </tbody>\n",
              "</table>\n",
              "<p>2397 rows × 7 columns</p>\n",
              "</div>"
            ],
            "text/plain": [
              "            Método Município de Residência  ... Idade Data do Óbito\n",
              "0             Swab          Campina Grande  ...    59    2020-07-19\n",
              "1     Teste Rápido          Pedras de Fogo  ...    84    2020-08-07\n",
              "2     Teste Rápido             João Pessoa  ...    95    2020-07-16\n",
              "3     Teste Rápido               Guarabira  ...    80    2020-06-22\n",
              "4             Swab          Campina Grande  ...    76    2020-08-18\n",
              "...            ...                     ...  ...   ...           ...\n",
              "2392          Swab             João Pessoa  ...    80    2020-06-13\n",
              "2393          Swab                   Patos  ...    73    2020-07-04\n",
              "2394  Teste Rápido          Campina Grande  ...    55    2020-06-24\n",
              "2395          Swab          Campina Grande  ...    88    2020-07-09\n",
              "2396          Swab                   Capim  ...    80    2020-06-11\n",
              "\n",
              "[2397 rows x 7 columns]"
            ]
          },
          "metadata": {
            "tags": []
          },
          "execution_count": 43
        }
      ]
    },
    {
      "cell_type": "code",
      "metadata": {
        "id": "eeNOsPuexjhR",
        "colab_type": "code",
        "colab": {
          "base_uri": "https://localhost:8080/",
          "height": 609
        },
        "outputId": "5ef0db5d-8da9-429b-9e3d-967bd1fa3167"
      },
      "source": [
        "#Filtragem que irá buscar os dados referente ao municipio de cuitegi, que irá sobrescrever o dataframe.\n",
        "dadosCovid = dadosCovid.query('municipio == \"Cuitegi\"')\n",
        "dadosCovid "
      ],
      "execution_count": 22,
      "outputs": [
        {
          "output_type": "execute_result",
          "data": {
            "text/html": [
              "<div>\n",
              "<style scoped>\n",
              "    .dataframe tbody tr th:only-of-type {\n",
              "        vertical-align: middle;\n",
              "    }\n",
              "\n",
              "    .dataframe tbody tr th {\n",
              "        vertical-align: top;\n",
              "    }\n",
              "\n",
              "    .dataframe thead th {\n",
              "        text-align: right;\n",
              "    }\n",
              "</style>\n",
              "<table border=\"1\" class=\"dataframe\">\n",
              "  <thead>\n",
              "    <tr style=\"text-align: right;\">\n",
              "      <th></th>\n",
              "      <th>regiao</th>\n",
              "      <th>estado</th>\n",
              "      <th>municipio</th>\n",
              "      <th>coduf</th>\n",
              "      <th>codmun</th>\n",
              "      <th>codRegiaoSaude</th>\n",
              "      <th>nomeRegiaoSaude</th>\n",
              "      <th>data</th>\n",
              "      <th>semanaEpi</th>\n",
              "      <th>populacaoTCU2019</th>\n",
              "      <th>casosAcumulado</th>\n",
              "      <th>casosNovos</th>\n",
              "      <th>obitosAcumulado</th>\n",
              "      <th>obitosNovos</th>\n",
              "      <th>Recuperadosnovos</th>\n",
              "      <th>emAcompanhamentoNovos</th>\n",
              "      <th>interior/metropolitana</th>\n",
              "    </tr>\n",
              "  </thead>\n",
              "  <tbody>\n",
              "    <tr>\n",
              "      <th>209343</th>\n",
              "      <td>Nordeste</td>\n",
              "      <td>PB</td>\n",
              "      <td>Cuitegi</td>\n",
              "      <td>25</td>\n",
              "      <td>250520.0</td>\n",
              "      <td>25002.0</td>\n",
              "      <td>2ª REGIAO</td>\n",
              "      <td>2020-03-27</td>\n",
              "      <td>13</td>\n",
              "      <td>6803.0</td>\n",
              "      <td>0</td>\n",
              "      <td>0</td>\n",
              "      <td>0</td>\n",
              "      <td>0</td>\n",
              "      <td>NaN</td>\n",
              "      <td>NaN</td>\n",
              "      <td>0.0</td>\n",
              "    </tr>\n",
              "    <tr>\n",
              "      <th>209344</th>\n",
              "      <td>Nordeste</td>\n",
              "      <td>PB</td>\n",
              "      <td>Cuitegi</td>\n",
              "      <td>25</td>\n",
              "      <td>250520.0</td>\n",
              "      <td>25002.0</td>\n",
              "      <td>2ª REGIAO</td>\n",
              "      <td>2020-03-28</td>\n",
              "      <td>13</td>\n",
              "      <td>6803.0</td>\n",
              "      <td>0</td>\n",
              "      <td>0</td>\n",
              "      <td>0</td>\n",
              "      <td>0</td>\n",
              "      <td>NaN</td>\n",
              "      <td>NaN</td>\n",
              "      <td>0.0</td>\n",
              "    </tr>\n",
              "    <tr>\n",
              "      <th>209345</th>\n",
              "      <td>Nordeste</td>\n",
              "      <td>PB</td>\n",
              "      <td>Cuitegi</td>\n",
              "      <td>25</td>\n",
              "      <td>250520.0</td>\n",
              "      <td>25002.0</td>\n",
              "      <td>2ª REGIAO</td>\n",
              "      <td>2020-03-29</td>\n",
              "      <td>14</td>\n",
              "      <td>6803.0</td>\n",
              "      <td>0</td>\n",
              "      <td>0</td>\n",
              "      <td>0</td>\n",
              "      <td>0</td>\n",
              "      <td>NaN</td>\n",
              "      <td>NaN</td>\n",
              "      <td>0.0</td>\n",
              "    </tr>\n",
              "    <tr>\n",
              "      <th>209346</th>\n",
              "      <td>Nordeste</td>\n",
              "      <td>PB</td>\n",
              "      <td>Cuitegi</td>\n",
              "      <td>25</td>\n",
              "      <td>250520.0</td>\n",
              "      <td>25002.0</td>\n",
              "      <td>2ª REGIAO</td>\n",
              "      <td>2020-03-30</td>\n",
              "      <td>14</td>\n",
              "      <td>6803.0</td>\n",
              "      <td>0</td>\n",
              "      <td>0</td>\n",
              "      <td>0</td>\n",
              "      <td>0</td>\n",
              "      <td>NaN</td>\n",
              "      <td>NaN</td>\n",
              "      <td>0.0</td>\n",
              "    </tr>\n",
              "    <tr>\n",
              "      <th>209347</th>\n",
              "      <td>Nordeste</td>\n",
              "      <td>PB</td>\n",
              "      <td>Cuitegi</td>\n",
              "      <td>25</td>\n",
              "      <td>250520.0</td>\n",
              "      <td>25002.0</td>\n",
              "      <td>2ª REGIAO</td>\n",
              "      <td>2020-03-31</td>\n",
              "      <td>14</td>\n",
              "      <td>6803.0</td>\n",
              "      <td>0</td>\n",
              "      <td>0</td>\n",
              "      <td>0</td>\n",
              "      <td>0</td>\n",
              "      <td>NaN</td>\n",
              "      <td>NaN</td>\n",
              "      <td>0.0</td>\n",
              "    </tr>\n",
              "    <tr>\n",
              "      <th>...</th>\n",
              "      <td>...</td>\n",
              "      <td>...</td>\n",
              "      <td>...</td>\n",
              "      <td>...</td>\n",
              "      <td>...</td>\n",
              "      <td>...</td>\n",
              "      <td>...</td>\n",
              "      <td>...</td>\n",
              "      <td>...</td>\n",
              "      <td>...</td>\n",
              "      <td>...</td>\n",
              "      <td>...</td>\n",
              "      <td>...</td>\n",
              "      <td>...</td>\n",
              "      <td>...</td>\n",
              "      <td>...</td>\n",
              "      <td>...</td>\n",
              "    </tr>\n",
              "    <tr>\n",
              "      <th>209493</th>\n",
              "      <td>Nordeste</td>\n",
              "      <td>PB</td>\n",
              "      <td>Cuitegi</td>\n",
              "      <td>25</td>\n",
              "      <td>250520.0</td>\n",
              "      <td>25002.0</td>\n",
              "      <td>2ª REGIAO</td>\n",
              "      <td>2020-08-24</td>\n",
              "      <td>35</td>\n",
              "      <td>6803.0</td>\n",
              "      <td>400</td>\n",
              "      <td>0</td>\n",
              "      <td>9</td>\n",
              "      <td>0</td>\n",
              "      <td>NaN</td>\n",
              "      <td>NaN</td>\n",
              "      <td>0.0</td>\n",
              "    </tr>\n",
              "    <tr>\n",
              "      <th>209494</th>\n",
              "      <td>Nordeste</td>\n",
              "      <td>PB</td>\n",
              "      <td>Cuitegi</td>\n",
              "      <td>25</td>\n",
              "      <td>250520.0</td>\n",
              "      <td>25002.0</td>\n",
              "      <td>2ª REGIAO</td>\n",
              "      <td>2020-08-25</td>\n",
              "      <td>35</td>\n",
              "      <td>6803.0</td>\n",
              "      <td>401</td>\n",
              "      <td>1</td>\n",
              "      <td>9</td>\n",
              "      <td>0</td>\n",
              "      <td>NaN</td>\n",
              "      <td>NaN</td>\n",
              "      <td>0.0</td>\n",
              "    </tr>\n",
              "    <tr>\n",
              "      <th>209495</th>\n",
              "      <td>Nordeste</td>\n",
              "      <td>PB</td>\n",
              "      <td>Cuitegi</td>\n",
              "      <td>25</td>\n",
              "      <td>250520.0</td>\n",
              "      <td>25002.0</td>\n",
              "      <td>2ª REGIAO</td>\n",
              "      <td>2020-08-26</td>\n",
              "      <td>35</td>\n",
              "      <td>6803.0</td>\n",
              "      <td>401</td>\n",
              "      <td>0</td>\n",
              "      <td>9</td>\n",
              "      <td>0</td>\n",
              "      <td>NaN</td>\n",
              "      <td>NaN</td>\n",
              "      <td>0.0</td>\n",
              "    </tr>\n",
              "    <tr>\n",
              "      <th>209496</th>\n",
              "      <td>Nordeste</td>\n",
              "      <td>PB</td>\n",
              "      <td>Cuitegi</td>\n",
              "      <td>25</td>\n",
              "      <td>250520.0</td>\n",
              "      <td>25002.0</td>\n",
              "      <td>2ª REGIAO</td>\n",
              "      <td>2020-08-27</td>\n",
              "      <td>35</td>\n",
              "      <td>6803.0</td>\n",
              "      <td>399</td>\n",
              "      <td>-2</td>\n",
              "      <td>9</td>\n",
              "      <td>0</td>\n",
              "      <td>NaN</td>\n",
              "      <td>NaN</td>\n",
              "      <td>0.0</td>\n",
              "    </tr>\n",
              "    <tr>\n",
              "      <th>209497</th>\n",
              "      <td>Nordeste</td>\n",
              "      <td>PB</td>\n",
              "      <td>Cuitegi</td>\n",
              "      <td>25</td>\n",
              "      <td>250520.0</td>\n",
              "      <td>25002.0</td>\n",
              "      <td>2ª REGIAO</td>\n",
              "      <td>2020-08-28</td>\n",
              "      <td>35</td>\n",
              "      <td>6803.0</td>\n",
              "      <td>399</td>\n",
              "      <td>0</td>\n",
              "      <td>9</td>\n",
              "      <td>0</td>\n",
              "      <td>NaN</td>\n",
              "      <td>NaN</td>\n",
              "      <td>0.0</td>\n",
              "    </tr>\n",
              "  </tbody>\n",
              "</table>\n",
              "<p>155 rows × 17 columns</p>\n",
              "</div>"
            ],
            "text/plain": [
              "          regiao estado  ... emAcompanhamentoNovos  interior/metropolitana\n",
              "209343  Nordeste     PB  ...                   NaN                     0.0\n",
              "209344  Nordeste     PB  ...                   NaN                     0.0\n",
              "209345  Nordeste     PB  ...                   NaN                     0.0\n",
              "209346  Nordeste     PB  ...                   NaN                     0.0\n",
              "209347  Nordeste     PB  ...                   NaN                     0.0\n",
              "...          ...    ...  ...                   ...                     ...\n",
              "209493  Nordeste     PB  ...                   NaN                     0.0\n",
              "209494  Nordeste     PB  ...                   NaN                     0.0\n",
              "209495  Nordeste     PB  ...                   NaN                     0.0\n",
              "209496  Nordeste     PB  ...                   NaN                     0.0\n",
              "209497  Nordeste     PB  ...                   NaN                     0.0\n",
              "\n",
              "[155 rows x 17 columns]"
            ]
          },
          "metadata": {
            "tags": []
          },
          "execution_count": 22
        }
      ]
    },
    {
      "cell_type": "code",
      "metadata": {
        "id": "mcZ5l9jyzCJb",
        "colab_type": "code",
        "colab": {
          "base_uri": "https://localhost:8080/",
          "height": 298
        },
        "outputId": "c05b612e-883a-4e20-bf41-a723b3decdac"
      },
      "source": [
        "plt.plot(dadosCovid['data'], dadosCovid['casosAcumulado'],label=\"Casos acumulados\")\n",
        "plt.title('Quantidade de Casos Acumulados no Município de Cuitegi')\n",
        "plt.legend()"
      ],
      "execution_count": 28,
      "outputs": [
        {
          "output_type": "execute_result",
          "data": {
            "text/plain": [
              "<matplotlib.legend.Legend at 0x7f66555378d0>"
            ]
          },
          "metadata": {
            "tags": []
          },
          "execution_count": 28
        },
        {
          "output_type": "display_data",
          "data": {
            "image/png": "[encoded data removed]",
            "text/plain": [
              "<Figure size 432x288 with 1 Axes>"
            ]
          },
          "metadata": {
            "tags": [],
            "needs_background": "light"
          }
        }
      ]
    },
    {
      "cell_type": "code",
      "metadata": {
        "id": "qe_RVh38076q",
        "colab_type": "code",
        "colab": {
          "base_uri": "https://localhost:8080/",
          "height": 298
        },
        "outputId": "41f71502-fdd4-4daa-803f-07b03083e52b"
      },
      "source": [
        "plt.plot(dadosCovid['data'], dadosCovid['casosAcumulado'],label=\"Casos acumulados\", color = \"#20257c\")\n",
        "plt.plot(dadosCovid['data'], dadosCovid['casosNovos'],label=\"Novos casos\", color = \"#424ad1\")\n",
        "plt.title('Comparativo do Número Casos no Município de Cuitegi')\n",
        "plt.legend()"
      ],
      "execution_count": 32,
      "outputs": [
        {
          "output_type": "execute_result",
          "data": {
            "text/plain": [
              "<matplotlib.legend.Legend at 0x7f6657245320>"
            ]
          },
          "metadata": {
            "tags": []
          },
          "execution_count": 32
        },
        {
          "output_type": "display_data",
          "data": {
            "image/png": "[encoded data removed]",
            "text/plain": [
              "<Figure size 432x288 with 1 Axes>"
            ]
          },
          "metadata": {
            "tags": [],
            "needs_background": "light"
          }
        }
      ]
    },
    {
      "cell_type": "code",
      "metadata": {
        "id": "Rae3v_9m0yZl",
        "colab_type": "code",
        "colab": {
          "base_uri": "https://localhost:8080/",
          "height": 298
        },
        "outputId": "d9803f71-8a27-47d4-fabc-f905e090d062"
      },
      "source": [
        "plt.plot(dadosCovid['data'], dadosCovid['casosAcumulado'],label=\"Casos acumulados\")\n",
        "plt.plot(dadosCovid['data'], dadosCovid['obitosAcumulado'],label=\"Obitos acumulados\")\n",
        "plt.title('Comparativo entre Casos Acumulados e Obitos no Município de Cuitegi')\n",
        "plt.legend()"
      ],
      "execution_count": 33,
      "outputs": [
        {
          "output_type": "execute_result",
          "data": {
            "text/plain": [
              "<matplotlib.legend.Legend at 0x7f6657778ac8>"
            ]
          },
          "metadata": {
            "tags": []
          },
          "execution_count": 33
        },
        {
          "output_type": "display_data",
          "data": {
            "image/png": "[encoded data removed]",
            "text/plain": [
              "<Figure size 432x288 with 1 Axes>"
            ]
          },
          "metadata": {
            "tags": [],
            "needs_background": "light"
          }
        }
      ]
    },
    {
      "cell_type": "code",
      "metadata": {
        "id": "np7hLx10A3lo",
        "colab_type": "code",
        "colab": {}
      },
      "source": [
        "## Filtragem para obter apenas os óbitos dos residentes do município de Cuitegi"
      ],
      "execution_count": null,
      "outputs": []
    },
    {
      "cell_type": "code",
      "metadata": {
        "id": "0xmG4dIL79yc",
        "colab_type": "code",
        "colab": {}
      },
      "source": [
        "ObitosCuitegi = dadosObitosPB.loc[dadosObitosPB['Município de Residência']==\"Cuitegi\"]"
      ],
      "execution_count": 46,
      "outputs": []
    },
    {
      "cell_type": "code",
      "metadata": {
        "id": "yRU93JBqBPkF",
        "colab_type": "code",
        "colab": {}
      },
      "source": [
        "## Contagem do valores da coluna sexo. E cálculo para obter a porcentagem por sexo.  "
      ],
      "execution_count": null,
      "outputs": []
    },
    {
      "cell_type": "code",
      "metadata": {
        "id": "O_bC2mFu4zzt",
        "colab_type": "code",
        "colab": {
          "base_uri": "https://localhost:8080/",
          "height": 68
        },
        "outputId": "099d8376-4d21-497b-bab1-32e34e71717e"
      },
      "source": [
        "sexoObitos = ObitosCuitegi['Sexo']\n",
        "sexoObitos = sexoObitos.value_counts()\n",
        "total = ObitosCuitegi['Sexo'].count()\n",
        "totalsexo = (sexoObitos/total)*100\n",
        "totalsexo"
      ],
      "execution_count": 48,
      "outputs": [
        {
          "output_type": "execute_result",
          "data": {
            "text/plain": [
              "Masculino    55.555556\n",
              "Feminino     44.444444\n",
              "Name: Sexo, dtype: float64"
            ]
          },
          "metadata": {
            "tags": []
          },
          "execution_count": 48
        }
      ]
    },
    {
      "cell_type": "code",
      "metadata": {
        "id": "Z7rZSKxY7zHl",
        "colab_type": "code",
        "colab": {
          "base_uri": "https://localhost:8080/",
          "height": 267
        },
        "outputId": "ce23eeed-e14b-46ef-8b82-ec67e3e980fe"
      },
      "source": [
        "nomes = ['MASCULINO', 'FEMININO']\n",
        "cor = ['#6a8ee8','#ff9f43']\n",
        "plt.pie(totalsexo, labels=nomes , colors= cor,  autopct=\"%1.1f%%\")\n",
        "plt.title(\"Porcentagem de Óbitos por Sexo no Município de Cuitegi\")\n",
        "plt.axis(\"equal\")\n",
        "plt.legend()\n",
        "plt.show()"
      ],
      "execution_count": 51,
      "outputs": [
        {
          "output_type": "display_data",
          "data": {
            "image/png": "[encoded data removed]",
            "text/plain": [
              "<Figure size 432x288 with 1 Axes>"
            ]
          },
          "metadata": {
            "tags": []
          }
        }
      ]
    }
  ]
}